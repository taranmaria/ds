{
 "cells": [
  {
   "cell_type": "code",
   "execution_count": 5,
   "metadata": {},
   "outputs": [],
   "source": [
    "%matplotlib inline\n",
    "import random\n",
    "import numpy as np\n",
    "import matplotlib.pyplot as plt\n",
    "from geneticalgorithm import geneticalgorithm as ga\n",
    "import robot_lib"
   ]
  },
  {
   "cell_type": "code",
   "execution_count": 6,
   "metadata": {},
   "outputs": [],
   "source": [
    "nu = [0.0, 1, 0]"
   ]
  },
  {
   "cell_type": "code",
   "execution_count": 7,
   "metadata": {},
   "outputs": [
    {
     "name": "stdout",
     "output_type": "stream",
     "text": [
      "Final twiddle error = 6.48624842097e-16\n"
     ]
    }
   ],
   "source": [
    "def run(robot, params, n=100, speed=1.0):\n",
    "    x_trajectory = []\n",
    "    y_trajectory = []\n",
    "    err = 0\n",
    "    prev_cte = robot.y\n",
    "    int_cte = 0\n",
    "    for i in range(2 * n):\n",
    "        cte = robot.y\n",
    "        diff_cte = cte - prev_cte\n",
    "        int_cte += cte\n",
    "        prev_cte = cte\n",
    "        steer = -params[0] * cte - params[1] * diff_cte - params[2] * int_cte\n",
    "        robot.move(steer, speed)\n",
    "        x_trajectory.append(robot.x)\n",
    "        y_trajectory.append(robot.y)\n",
    "        if i>=n:\n",
    "            err += cte ** 2\n",
    "    return x_trajectory, y_trajectory, err / n\n",
    "\n",
    "\n",
    "# Make this tolerance bigger if you are timing out!\n",
    "def twiddle(tol=0.1): \n",
    "    n = 0\n",
    "    p = [0.0, 0.0, 0.0]\n",
    "    dp = [1.0, 1.0, 1.0]\n",
    "    \n",
    "    robot = robot_lib.make_robot(nu[0], nu[1], nu[2])\n",
    "    x_trajectory, y_trajectory, best_err = run(robot, p)  # initial err\n",
    "    \n",
    "    while sum(dp) >= tol:\n",
    "        for i in range(len(p)):\n",
    "            robot = robot_lib.make_robot(nu[0], nu[1], nu[2])\n",
    "            p[i] += dp[i]\n",
    "            _, _, err = run(robot, p)\n",
    "            if err < best_err:\n",
    "                best_err = err\n",
    "                dp[i] *= 1.1\n",
    "            else:\n",
    "                p[i] -= 2*dp[i]  # reverse the search direction\n",
    "                robot = robot_lib.make_robot(nu[0], nu[1], nu[2])\n",
    "                _, _, err = run(robot, p)\n",
    "                if err < best_err:\n",
    "                    best_err = err\n",
    "                    dp[i] *= 1.1\n",
    "                else:\n",
    "                    p[i] += dp[i]\n",
    "                    dp[i] *= 0.9  # narrow the search range\n",
    "            n += 1\n",
    "        if n % 5 == 0:\n",
    "            pass#print(\"best err {} | params {} | dparams {}\".format(best_err, p, dp))\n",
    "    \n",
    "    return p, best_err\n",
    "\n",
    "\n",
    "params, err = twiddle()\n",
    "print(\"Final twiddle error = {}\".format(err))"
   ]
  },
  {
   "cell_type": "code",
   "execution_count": 8,
   "metadata": {},
   "outputs": [
    {
     "name": "stdout",
     "output_type": "stream",
     "text": [
      "[2.9331227688652466, 10.326589894591532, 0.49316041639454494]\n"
     ]
    },
    {
     "data": {
      "text/plain": [
       "<matplotlib.legend.Legend at 0x7f9fa6a90dd0>"
      ]
     },
     "execution_count": 8,
     "metadata": {},
     "output_type": "execute_result"
    },
    {
     "data": {
      "image/png": "[encoded data removed]",
      "text/plain": [
       "<Figure size 576x288 with 1 Axes>"
      ]
     },
     "metadata": {
      "needs_background": "light"
     },
     "output_type": "display_data"
    }
   ],
   "source": [
    "robot = robot_lib.make_robot(nu[0], nu[1], nu[2])\n",
    "print (params)\n",
    "x_trajectory, y_trajectory, err = run(robot, params)\n",
    "n = len(x_trajectory)\n",
    "\n",
    "fig, ax1 = plt.subplots(1, 1, figsize=(8, 4))\n",
    "ax1.plot(x_trajectory, y_trajectory, 'g', label='Twiddle PID controller')\n",
    "ax1.plot(x_trajectory, np.zeros(n), 'r', label='reference')\n",
    "plt.legend()"
   ]
  },
  {
   "cell_type": "code",
   "execution_count": 10,
   "metadata": {},
   "outputs": [],
   "source": [
    "def func_to_minimize(parameters):\n",
    "    robot = robot_lib.make_robot(nu[0],nu[1],nu[2])\n",
    "    return run(robot, parameters)[2]"
   ]
  },
  {
   "cell_type": "code",
   "execution_count": 11,
   "metadata": {},
   "outputs": [
    {
     "name": "stdout",
     "output_type": "stream",
     "text": [
      " The best solution found:                                                                           \n",
      " [2.24094503 8.85473377 0.24882099]\n",
      "\n",
      " Objective function:\n",
      " 5.704582005391103e-20\n"
     ]
    },
    {
     "data": {
      "image/png": "[encoded data removed]",
      "text/plain": [
       "<Figure size 432x288 with 1 Axes>"
      ]
     },
     "metadata": {
      "needs_background": "light"
     },
     "output_type": "display_data"
    }
   ],
   "source": [
    "varbound=np.array([[0,10], [0,11], [-1,1]])\n",
    "algorithm_param = {'max_num_iteration': 1000,\\\n",
    "                   'population_size':30,\\\n",
    "                   'mutation_probability':1.0,\\\n",
    "                   'elit_ratio': 0.01,\\\n",
    "                   'crossover_probability': 0.3,\\\n",
    "                   'parents_portion': 0.3,\\\n",
    "                   'crossover_type':'uniform',\\\n",
    "                   'max_iteration_without_improv':None}\n",
    "model=ga(function=func_to_minimize,dimension=3,variable_type='real',variable_boundaries=varbound, algorithm_parameters=algorithm_param)\n",
    "model.run()"
   ]
  },
  {
   "cell_type": "code",
   "execution_count": 30,
   "metadata": {},
   "outputs": [
    {
     "name": "stdout",
     "output_type": "stream",
     "text": [
      "[1.82542196 7.58535215 0.19519447]\n"
     ]
    },
    {
     "data": {
      "text/plain": [
       "<matplotlib.legend.Legend at 0x7f22188486d0>"
      ]
     },
     "execution_count": 30,
     "metadata": {},
     "output_type": "execute_result"
    },
    {
     "data": {
      "image/png": "[encoded data removed]",
      "text/plain": [
       "<Figure size 576x288 with 1 Axes>"
      ]
     },
     "metadata": {
      "needs_background": "light"
     },
     "output_type": "display_data"
    }
   ],
   "source": [
    "print (model.best_variable)\n",
    "robot = robot_lib.make_robot(nu[0], nu[1], nu[2])\n",
    "x_trajectory, y_trajectory, err = run(robot, model.best_variable)\n",
    "n = len(x_trajectory)\n",
    "fig, ax1 = plt.subplots(1, 1, figsize=(8, 4))\n",
    "ax1.plot(x_trajectory, y_trajectory, 'g', label='GA PID controller')\n",
    "ax1.plot(x_trajectory, np.zeros(n), 'r', label='reference')\n",
    "plt.legend()\n",
    "#fig.savefig('Lib_GA_one')"
   ]
  },
  {
   "cell_type": "code",
   "execution_count": null,
   "metadata": {},
   "outputs": [],
   "source": []
  }
 ],
 "metadata": {
  "kernelspec": {
   "display_name": "Python 2",
   "language": "python",
   "name": "python2"
  },
  "language_info": {
   "codemirror_mode": {
    "name": "ipython",
    "version": 2
   },
   "file_extension": ".py",
   "mimetype": "text/x-python",
   "name": "python",
   "nbconvert_exporter": "python",
   "pygments_lexer": "ipython2",
   "version": "2.7.16"
  }
 },
 "nbformat": 4,
 "nbformat_minor": 2
}
