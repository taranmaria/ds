{
 "cells": [
  {
   "cell_type": "markdown",
   "metadata": {},
   "source": [
    "# Преобразование Лапласа\n",
    "\n",
    "$$\\mathcal{L}\\{x(t)\\}=\\int_0^{\\infty}{x(t)\\cdot e^{-st}}dt$$"
   ]
  },
  {
   "cell_type": "code",
   "execution_count": 1,
   "metadata": {},
   "outputs": [],
   "source": [
    "import sympy\n",
    "import matplotlib.pyplot as plt"
   ]
  },
  {
   "cell_type": "code",
   "execution_count": 2,
   "metadata": {},
   "outputs": [],
   "source": [
    "t, s = sympy.symbols('t, s')\n",
    "a = sympy.symbols('a', real = True, positive = True)"
   ]
  },
  {
   "cell_type": "code",
   "execution_count": 3,
   "metadata": {},
   "outputs": [
    {
     "data": {
      "text/latex": [
       "$\\displaystyle e^{- a t}$"
      ],
      "text/plain": [
       "exp(-a*t)"
      ]
     },
     "execution_count": 3,
     "metadata": {},
     "output_type": "execute_result"
    }
   ],
   "source": [
    "f = sympy.exp(-a*t)\n",
    "f"
   ]
  },
  {
   "cell_type": "code",
   "execution_count": 8,
   "metadata": {},
   "outputs": [],
   "source": [
    "def L(f):\n",
    "    return sympy.laplace_transform(f,t,s, noconds=True)\n",
    "\n",
    "def invL(F):\n",
    "    return sympy.inverse_laplace_transform(F, s, t)"
   ]
  },
  {
   "cell_type": "code",
   "execution_count": 9,
   "metadata": {},
   "outputs": [
    {
     "data": {
      "text/latex": [
       "$\\displaystyle \\frac{1}{a + s}$"
      ],
      "text/plain": [
       "1/(a + s)"
      ]
     },
     "execution_count": 9,
     "metadata": {},
     "output_type": "execute_result"
    }
   ],
   "source": [
    "F = L(f)\n",
    "F"
   ]
  },
  {
   "cell_type": "code",
   "execution_count": 10,
   "metadata": {},
   "outputs": [
    {
     "data": {
      "text/latex": [
       "$\\displaystyle e^{- a t} \\theta\\left(t\\right)$"
      ],
      "text/plain": [
       "exp(-a*t)*Heaviside(t)"
      ]
     },
     "execution_count": 10,
     "metadata": {},
     "output_type": "execute_result"
    }
   ],
   "source": [
    "invL(F)"
   ]
  },
  {
   "cell_type": "code",
   "execution_count": 48,
   "metadata": {},
   "outputs": [],
   "source": [
    "omega, tau = sympy.symbols('omega, tau', real=True)\n",
    "n = sympy.symbols('n', int=True, positive = True)\n",
    "exp = sympy.exp\n",
    "sin = sympy.sin\n",
    "cos = sympy.cos\n",
    "delta = sympy.DiracDelta\n",
    "hv = sympy.Heaviside\n",
    "\n",
    "functions = [1, \n",
    "             delta(t),\n",
    "             delta(t-a),\n",
    "             hv(t), \n",
    "             exp(-a*t), \n",
    "             t*exp(-a*t),\n",
    "             t**n*exp(-a*t),\n",
    "             sin(omega*t), \n",
    "             cos(omega*t)]"
   ]
  },
  {
   "cell_type": "code",
   "execution_count": 49,
   "metadata": {},
   "outputs": [
    {
     "data": {
      "text/plain": [
       "[1,\n",
       " DiracDelta(t),\n",
       " DiracDelta(-a + t),\n",
       " Heaviside(t),\n",
       " exp(-a*t),\n",
       " t*exp(-a*t),\n",
       " t**n*exp(-a*t),\n",
       " sin(omega*t),\n",
       " cos(omega*t)]"
      ]
     },
     "execution_count": 49,
     "metadata": {},
     "output_type": "execute_result"
    }
   ],
   "source": [
    "functions"
   ]
  },
  {
   "cell_type": "code",
   "execution_count": 50,
   "metadata": {},
   "outputs": [],
   "source": [
    "Fs = [L(f) for f in functions]"
   ]
  },
  {
   "cell_type": "code",
   "execution_count": 51,
   "metadata": {},
   "outputs": [
    {
     "data": {
      "text/plain": [
       "[1/s,\n",
       " 1 - Heaviside(0),\n",
       " exp(-a*s),\n",
       " 1/s,\n",
       " 1/(a + s),\n",
       " (a + s)**(-2),\n",
       " (a + s)**(-n - 1)*gamma(n + 1),\n",
       " omega/(omega**2 + s**2),\n",
       " s/(omega**2 + s**2)]"
      ]
     },
     "execution_count": 51,
     "metadata": {},
     "output_type": "execute_result"
    }
   ],
   "source": [
    "Fs"
   ]
  },
  {
   "cell_type": "code",
   "execution_count": 52,
   "metadata": {},
   "outputs": [],
   "source": [
    "from pandas import DataFrame"
   ]
  },
  {
   "cell_type": "code",
   "execution_count": 53,
   "metadata": {},
   "outputs": [],
   "source": [
    "def makelatex(args):\n",
    "    return [\"$${}$$\".format(sympy.latex(a)) for a in args]"
   ]
  },
  {
   "cell_type": "code",
   "execution_count": 54,
   "metadata": {},
   "outputs": [
    {
     "data": {
      "text/html": [
       "<div>\n",
       "<style scoped>\n",
       "    .dataframe tbody tr th:only-of-type {\n",
       "        vertical-align: middle;\n",
       "    }\n",
       "\n",
       "    .dataframe tbody tr th {\n",
       "        vertical-align: top;\n",
       "    }\n",
       "\n",
       "    .dataframe thead th {\n",
       "        text-align: right;\n",
       "    }\n",
       "</style>\n",
       "<table border=\"1\" class=\"dataframe\">\n",
       "  <thead>\n",
       "    <tr style=\"text-align: right;\">\n",
       "      <th></th>\n",
       "      <th>0</th>\n",
       "      <th>1</th>\n",
       "    </tr>\n",
       "  </thead>\n",
       "  <tbody>\n",
       "    <tr>\n",
       "      <th>0</th>\n",
       "      <td>$$1$$</td>\n",
       "      <td>$$\\frac{1}{s}$$</td>\n",
       "    </tr>\n",
       "    <tr>\n",
       "      <th>1</th>\n",
       "      <td>$$\\delta\\left(t\\right)$$</td>\n",
       "      <td>$$1 - \\theta\\left(0\\right)$$</td>\n",
       "    </tr>\n",
       "    <tr>\n",
       "      <th>2</th>\n",
       "      <td>$$\\delta\\left(- a + t\\right)$$</td>\n",
       "      <td>$$e^{- a s}$$</td>\n",
       "    </tr>\n",
       "    <tr>\n",
       "      <th>3</th>\n",
       "      <td>$$\\theta\\left(t\\right)$$</td>\n",
       "      <td>$$\\frac{1}{s}$$</td>\n",
       "    </tr>\n",
       "    <tr>\n",
       "      <th>4</th>\n",
       "      <td>$$e^{- a t}$$</td>\n",
       "      <td>$$\\frac{1}{a + s}$$</td>\n",
       "    </tr>\n",
       "    <tr>\n",
       "      <th>5</th>\n",
       "      <td>$$t e^{- a t}$$</td>\n",
       "      <td>$$\\frac{1}{\\left(a + s\\right)^{2}}$$</td>\n",
       "    </tr>\n",
       "    <tr>\n",
       "      <th>6</th>\n",
       "      <td>$$t^{n} e^{- a t}$$</td>\n",
       "      <td>$$\\left(a + s\\right)^{- n - 1} \\Gamma\\left(n +...</td>\n",
       "    </tr>\n",
       "    <tr>\n",
       "      <th>7</th>\n",
       "      <td>$$\\sin{\\left(\\omega t \\right)}$$</td>\n",
       "      <td>$$\\frac{\\omega}{\\omega^{2} + s^{2}}$$</td>\n",
       "    </tr>\n",
       "    <tr>\n",
       "      <th>8</th>\n",
       "      <td>$$\\cos{\\left(\\omega t \\right)}$$</td>\n",
       "      <td>$$\\frac{s}{\\omega^{2} + s^{2}}$$</td>\n",
       "    </tr>\n",
       "  </tbody>\n",
       "</table>\n",
       "</div>"
      ],
      "text/plain": [
       "                                  0  \\\n",
       "0                             $$1$$   \n",
       "1          $$\\delta\\left(t\\right)$$   \n",
       "2    $$\\delta\\left(- a + t\\right)$$   \n",
       "3          $$\\theta\\left(t\\right)$$   \n",
       "4                     $$e^{- a t}$$   \n",
       "5                   $$t e^{- a t}$$   \n",
       "6               $$t^{n} e^{- a t}$$   \n",
       "7  $$\\sin{\\left(\\omega t \\right)}$$   \n",
       "8  $$\\cos{\\left(\\omega t \\right)}$$   \n",
       "\n",
       "                                                   1  \n",
       "0                                    $$\\frac{1}{s}$$  \n",
       "1                       $$1 - \\theta\\left(0\\right)$$  \n",
       "2                                      $$e^{- a s}$$  \n",
       "3                                    $$\\frac{1}{s}$$  \n",
       "4                                $$\\frac{1}{a + s}$$  \n",
       "5               $$\\frac{1}{\\left(a + s\\right)^{2}}$$  \n",
       "6  $$\\left(a + s\\right)^{- n - 1} \\Gamma\\left(n +...  \n",
       "7              $$\\frac{\\omega}{\\omega^{2} + s^{2}}$$  \n",
       "8                   $$\\frac{s}{\\omega^{2} + s^{2}}$$  "
      ]
     },
     "execution_count": 54,
     "metadata": {},
     "output_type": "execute_result"
    }
   ],
   "source": [
    "DataFrame(list(zip(makelatex(functions),makelatex(Fs))))"
   ]
  },
  {
   "cell_type": "code",
   "execution_count": null,
   "metadata": {},
   "outputs": [],
   "source": []
  },
  {
   "cell_type": "code",
   "execution_count": null,
   "metadata": {},
   "outputs": [],
   "source": []
  }
 ],
 "metadata": {
  "kernelspec": {
   "display_name": "Python 3",
   "language": "python",
   "name": "python3"
  },
  "language_info": {
   "codemirror_mode": {
    "name": "ipython",
    "version": 3
   },
   "file_extension": ".py",
   "mimetype": "text/x-python",
   "name": "python",
   "nbconvert_exporter": "python",
   "pygments_lexer": "ipython3",
   "version": "3.8.3"
  }
 },
 "nbformat": 4,
 "nbformat_minor": 4
}
