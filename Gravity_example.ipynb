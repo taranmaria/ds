{
 "cells": [
  {
   "cell_type": "code",
   "execution_count": 84,
   "metadata": {
    "collapsed": true
   },
   "outputs": [],
   "source": [
    "import numpy as np\n",
    "import scipy.integrate as sci\n",
    "import matplotlib.pyplot as plt"
   ]
  },
  {
   "cell_type": "code",
   "execution_count": 85,
   "outputs": [],
   "source": [
    "class Parameters(object):\n",
    "    pass\n",
    "\n",
    "param = Parameters()\n",
    "param.beta = 10\n",
    "param.m = 1\n",
    "param.k = 20\n",
    "param.x_fin = 1\n",
    "param.P_coef = 20\n",
    "param.I_coef = 200\n",
    "param.D_coef = 20\n",
    "param.integral = 0\n",
    "param.control = 0\n",
    "param.prev_e = 1\n"
   ],
   "metadata": {
    "collapsed": false,
    "pycharm": {
     "name": "#%%\n"
    }
   }
  },
  {
   "cell_type": "code",
   "execution_count": 86,
   "outputs": [],
   "source": [
    "sim_param = Parameters()\n",
    "sim_param.t0 = 0\n",
    "sim_param.tf = 10\n",
    "sim_param.dt = 0.01"
   ],
   "metadata": {
    "collapsed": false,
    "pycharm": {
     "name": "#%%\n"
    }
   }
  },
  {
   "cell_type": "code",
   "execution_count": 87,
   "outputs": [],
   "source": [
    "def control(e, p = param):\n",
    "    p.integral += e * sim_param.dt\n",
    "    f = p.P_coef * e + p.I_coef * p.integral + p.D_coef * (e - p.prev_e) / sim_param.dt\n",
    "    p.prev_e = e\n",
    "    return f\n",
    "\n",
    "def ode(t, x, p = param):\n",
    "    r = x[0]\n",
    "    v = x[1]\n",
    "    f = p.control\n",
    "\n",
    "    dxdt = np.zeros(2)\n",
    "    dxdt[0] = v\n",
    "    dxdt[1] = 1 / p.m * (f - p.beta * v - p.k * r)\n",
    "    return dxdt"
   ],
   "metadata": {
    "collapsed": false,
    "pycharm": {
     "name": "#%%\n"
    }
   }
  },
  {
   "cell_type": "code",
   "execution_count": 88,
   "outputs": [],
   "source": [
    "x_list = []\n",
    "x_sol = [0, 0]\n",
    "\n",
    "t_sol = np.arange(sim_param.t0, sim_param.tf, sim_param.dt)\n",
    "\n",
    "t = 0.\n",
    "while t < sim_param.tf:\n",
    "    sol = sci.solve_ivp(ode, (t, t + sim_param.dt), x_sol)\n",
    "    t += sim_param.dt\n",
    "    x_sol = sol.y.T[-1, :]\n",
    "    x_list.append(x_sol[0])\n",
    "    param.control = control((param.x_fin - x_list[-1]), param)\n"
   ],
   "metadata": {
    "collapsed": false,
    "pycharm": {
     "name": "#%%\n"
    }
   }
  },
  {
   "cell_type": "code",
   "execution_count": 89,
   "outputs": [
    {
     "data": {
      "text/plain": "[<matplotlib.lines.Line2D at 0x2a429704370>]"
     },
     "execution_count": 89,
     "metadata": {},
     "output_type": "execute_result"
    },
    {
     "data": {
      "text/plain": "<Figure size 432x288 with 1 Axes>",
      "image/png": "[encoded data removed]"
     },
     "metadata": {
      "needs_background": "light"
     },
     "output_type": "display_data"
    }
   ],
   "source": [
    "plt.figure()\n",
    "plt.plot(t_sol, x_list[:len(t_sol)])\n"
   ],
   "metadata": {
    "collapsed": false,
    "pycharm": {
     "name": "#%%\n"
    }
   }
  },
  {
   "cell_type": "code",
   "execution_count": 89,
   "outputs": [],
   "source": [],
   "metadata": {
    "collapsed": false,
    "pycharm": {
     "name": "#%%\n"
    }
   }
  }
 ],
 "metadata": {
  "kernelspec": {
   "display_name": "Python 3",
   "language": "python",
   "name": "python3"
  },
  "language_info": {
   "codemirror_mode": {
    "name": "ipython",
    "version": 2
   },
   "file_extension": ".py",
   "mimetype": "text/x-python",
   "name": "python",
   "nbconvert_exporter": "python",
   "pygments_lexer": "ipython2",
   "version": "2.7.6"
  }
 },
 "nbformat": 4,
 "nbformat_minor": 0
}