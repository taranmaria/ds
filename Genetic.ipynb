{
 "cells": [
  {
   "cell_type": "code",
   "execution_count": 357,
   "metadata": {},
   "outputs": [],
   "source": [
    "%matplotlib inline\n",
    "import random\n",
    "import numpy as np\n",
    "import matplotlib.pyplot as plt"
   ]
  },
  {
   "cell_type": "code",
   "execution_count": 358,
   "metadata": {},
   "outputs": [],
   "source": [
    "class Robot(object):\n",
    "    def __init__(self, length=20.0):\n",
    "        \"\"\"\n",
    "        Creates robot and initializes location/orientation to 0, 0, 0.\n",
    "        \"\"\"\n",
    "        self.x = 0.0\n",
    "        self.y = 0.0\n",
    "        self.orientation = 0.0\n",
    "        self.length = length\n",
    "        self.steering_noise = 0.0\n",
    "        self.distance_noise = 0.0\n",
    "        self.steering_drift = 0.0\n",
    "\n",
    "    def set(self, x, y, orientation):\n",
    "        \"\"\"\n",
    "        Sets a robot coordinate.\n",
    "        \"\"\"\n",
    "        self.x = x\n",
    "        self.y = y\n",
    "        self.orientation = orientation % (2.0 * np.pi)\n",
    "\n",
    "    def set_noise(self, steering_noise, distance_noise):\n",
    "        \"\"\"\n",
    "        Sets the noise parameters.\n",
    "        \"\"\"\n",
    "        # makes it possible to change the noise parameters\n",
    "        # this is often useful in particle filters\n",
    "        self.steering_noise = steering_noise\n",
    "        self.distance_noise = distance_noise\n",
    "\n",
    "    def set_steering_drift(self, drift):\n",
    "        \"\"\"\n",
    "        Sets the systematical steering drift parameter\n",
    "        \"\"\"\n",
    "        self.steering_drift = drift\n",
    "\n",
    "    def move(self, steering, distance, tolerance=0.001, max_steering_angle=np.pi / 4.0):\n",
    "        \"\"\"\n",
    "        steering = front wheel steering angle, limited by max_steering_angle(max 90 degree)\n",
    "        distance = total distance driven, most be non-negative\n",
    "        \"\"\"\n",
    "        if steering > max_steering_angle:\n",
    "            steering = max_steering_angle\n",
    "        if steering < -max_steering_angle:\n",
    "            steering = -max_steering_angle\n",
    "        if distance < 0.0:\n",
    "            distance = 0.0\n",
    "\n",
    "        # apply noise\n",
    "        steering2 = random.gauss(steering, self.steering_noise)\n",
    "        distance2 = random.gauss(distance, self.distance_noise)\n",
    "\n",
    "        # apply steering drift\n",
    "        steering2 += self.steering_drift\n",
    "\n",
    "        # Execute motion\n",
    "        turn = np.tan(steering2) * distance2 / self.length\n",
    "\n",
    "        if abs(turn) < tolerance:\n",
    "            # approximate by straight line motion\n",
    "            self.x += distance2 * np.cos(self.orientation)\n",
    "            self.y += distance2 * np.sin(self.orientation)\n",
    "            self.orientation = (self.orientation + turn) % (2.0 * np.pi)\n",
    "        else:\n",
    "            # approximate bicycle model for motion\n",
    "            radius = distance2 / turn\n",
    "            cx = self.x - (np.sin(self.orientation) * radius)\n",
    "            cy = self.y + (np.cos(self.orientation) * radius)\n",
    "            self.orientation = (self.orientation + turn) % (2.0 * np.pi)\n",
    "            self.x = cx + (np.sin(self.orientation) * radius)\n",
    "            self.y = cy - (np.cos(self.orientation) * radius)\n",
    "\n",
    "    def __repr__(self):\n",
    "        return '[x=%.5f y=%.5f orient=%.5f]' % (self.x, self.y, self.orientation)\n"
   ]
  },
  {
   "cell_type": "markdown",
   "metadata": {},
   "source": [
    "# P"
   ]
  },
  {
   "cell_type": "code",
   "execution_count": 359,
   "metadata": {},
   "outputs": [
    {
     "data": {
      "text/plain": [
       "<matplotlib.legend.Legend at 0x7f803ab3a400>"
      ]
     },
     "execution_count": 359,
     "metadata": {},
     "output_type": "execute_result"
    },
    {
     "data": {
      "image/png": "[encoded data removed]",
      "text/plain": [
       "<Figure size 576x288 with 1 Axes>"
      ]
     },
     "metadata": {
      "needs_background": "light"
     },
     "output_type": "display_data"
    }
   ],
   "source": [
    "def run(robot, tau, n=100, speed=1.0):\n",
    "    x_trajectory = []\n",
    "    y_trajectory = []\n",
    "    \n",
    "    for _ in range(n):\n",
    "        steering = -tau*robot.y\n",
    "        robot.move(steering, speed)\n",
    "        \n",
    "        x_trajectory.append(robot.x)\n",
    "        y_trajectory.append(robot.y)\n",
    "    \n",
    "    return x_trajectory, y_trajectory\n",
    "\n",
    "# run - does a single control run\n",
    "robot = Robot()\n",
    "robot.set(0.0, 1.0, 0.0)\n",
    "\n",
    "x_trajectory, y_trajectory = run(robot, 0.1)\n",
    "n = len(x_trajectory)\n",
    "\n",
    "fig, ax1 = plt.subplots(1, 1, figsize=(8, 4))\n",
    "ax1.plot(x_trajectory, y_trajectory, 'g', label='P controller')\n",
    "ax1.plot(x_trajectory, np.zeros(n), 'r', label='reference')\n",
    "plt.legend()"
   ]
  },
  {
   "cell_type": "markdown",
   "metadata": {},
   "source": [
    "# PD"
   ]
  },
  {
   "cell_type": "code",
   "execution_count": 360,
   "metadata": {},
   "outputs": [
    {
     "data": {
      "text/plain": [
       "<matplotlib.legend.Legend at 0x7f803aa2fd30>"
      ]
     },
     "execution_count": 360,
     "metadata": {},
     "output_type": "execute_result"
    },
    {
     "data": {
      "image/png": "[encoded data removed]",
      "text/plain": [
       "<Figure size 576x288 with 1 Axes>"
      ]
     },
     "metadata": {
      "needs_background": "light"
     },
     "output_type": "display_data"
    }
   ],
   "source": [
    "# run - does a single control run\n",
    "robot = Robot()\n",
    "robot.set(0, 1, 0)\n",
    "\n",
    "def run(robot, tau_p, tau_d, n=100, speed=1.0):\n",
    "    x_trajectory = []\n",
    "    y_trajectory = []\n",
    "    \n",
    "    prev_cte = robot.y\n",
    "    for _ in range(n):\n",
    "        dev = robot.y - prev_cte\n",
    "        prev_cte = robot.y\n",
    "        steer = -tau_p * robot.y - tau_d * dev\n",
    "        robot.move(steer, speed)\n",
    "        x_trajectory.append(robot.x)\n",
    "        y_trajectory.append(robot.y)\n",
    "        \n",
    "    return x_trajectory, y_trajectory\n",
    "\n",
    "x_trajectory, y_trajectory = run(robot, 0.2, 4)\n",
    "n = len(x_trajectory)\n",
    "\n",
    "fig, ax1 = plt.subplots(1, 1, figsize=(8, 4))\n",
    "ax1.plot(x_trajectory, y_trajectory, 'g', label='PD controller')\n",
    "ax1.plot(x_trajectory, np.zeros(n), 'r', label='reference')\n",
    "plt.legend()"
   ]
  },
  {
   "cell_type": "code",
   "execution_count": 361,
   "metadata": {},
   "outputs": [
    {
     "data": {
      "text/plain": [
       "<matplotlib.legend.Legend at 0x7f803aac3cf8>"
      ]
     },
     "execution_count": 361,
     "metadata": {},
     "output_type": "execute_result"
    },
    {
     "data": {
      "image/png": "[encoded data removed]",
      "text/plain": [
       "<Figure size 576x288 with 1 Axes>"
      ]
     },
     "metadata": {
      "needs_background": "light"
     },
     "output_type": "display_data"
    }
   ],
   "source": [
    "robot = Robot()\n",
    "robot.set(0, 1, 0)\n",
    "robot.set_steering_drift(10/180.*np.pi)\n",
    "\n",
    "def run(robot, tau_p, tau_d, n=100, speed=1.0):\n",
    "    x_trajectory = []\n",
    "    y_trajectory = []\n",
    "    \n",
    "    prev_cte = robot.y\n",
    "    for _ in range(n):\n",
    "        dev = robot.y - prev_cte\n",
    "        prev_cte = robot.y\n",
    "        steer = -tau_p * robot.y - tau_d * dev\n",
    "        robot.move(steer, speed)\n",
    "        x_trajectory.append(robot.x)\n",
    "        y_trajectory.append(robot.y)\n",
    "        \n",
    "    return x_trajectory, y_trajectory\n",
    "\n",
    "x_trajectory, y_trajectory = run(robot, 0.2, 1)\n",
    "n = len(x_trajectory)\n",
    "\n",
    "fig, ax1 = plt.subplots(1, 1, figsize=(8, 4))\n",
    "ax1.plot(x_trajectory, y_trajectory, 'g', label='PD controller')\n",
    "ax1.plot(x_trajectory, np.zeros(n), 'r', label='reference')\n",
    "plt.legend()"
   ]
  },
  {
   "cell_type": "code",
   "execution_count": 362,
   "metadata": {},
   "outputs": [
    {
     "data": {
      "text/plain": [
       "<matplotlib.legend.Legend at 0x7f803a98d8d0>"
      ]
     },
     "execution_count": 362,
     "metadata": {},
     "output_type": "execute_result"
    },
    {
     "data": {
      "image/png": "[encoded data removed]",
      "text/plain": [
       "<Figure size 576x288 with 1 Axes>"
      ]
     },
     "metadata": {
      "needs_background": "light"
     },
     "output_type": "display_data"
    }
   ],
   "source": [
    "robot = Robot()\n",
    "robot.set(0, 1, 0)\n",
    "robot.set_steering_drift(10/180.*np.pi)  # add drift bias\n",
    "\n",
    "def run(robot, tau_p, tau_d, tau_i, n=100, speed=1.0):\n",
    "    x_trajectory = []\n",
    "    y_trajectory = []\n",
    "    \n",
    "    prev_cte = robot.y\n",
    "    sum_cte = 0\n",
    "    for _ in range(n):\n",
    "        sum_cte += robot.y\n",
    "        dev = robot.y - prev_cte\n",
    "        prev_cte = robot.y\n",
    "        steer = -tau_p * robot.y - tau_d * dev - tau_i*sum_cte\n",
    "        robot.move(steer, speed)\n",
    "        x_trajectory.append(robot.x)\n",
    "        y_trajectory.append(robot.y)\n",
    "        \n",
    "    return x_trajectory, y_trajectory\n",
    "\n",
    "\n",
    "x_trajectory, y_trajectory = run(robot, 0.2, 3.0, 0.004)\n",
    "n = len(x_trajectory)\n",
    "\n",
    "fig, ax1 = plt.subplots(1, 1, figsize=(8, 4))\n",
    "ax1.plot(x_trajectory, y_trajectory, 'g', label='PID controller')\n",
    "ax1.plot(x_trajectory, np.zeros(n), 'r', label='reference')\n",
    "plt.legend()"
   ]
  },
  {
   "cell_type": "code",
   "execution_count": 390,
   "metadata": {},
   "outputs": [
    {
     "name": "stdout",
     "output_type": "stream",
     "text": [
      "best err 0.052676612588758116 | params [2.9701000000000004, 6.105100000000002, 0.0] | dparams [1.0781100000000003, 1.6105100000000008, 0.5904900000000002]\n",
      "best err 0.047092602324875193 | params [6.289600690000002, 13.579476910000006, 0.0] | dparams [1.1623211721000006, 2.122152921900002, 0.34867844010000015]\n",
      "best err 0.047092602324875193 | params [6.289600690000004, 13.579476910000006, 0.0] | dparams [0.6863390289133294, 1.253110078852732, 0.2058911320946491]\n",
      "best err 0.04664946355807391 | params [7.518833890783777, 16.073165966916942, 0.0] | dparams [0.6054127940141588, 1.1053558694552066, 0.12157665459056936]\n",
      "best err 0.04621886336471736 | params [8.069698992057264, 19.731893894813673, 0.08862938119652507] | dparams [0.6527015873546049, 1.1916952164183532, 0.08774308738455984]\n",
      "best err 0.045911572274033745 | params [8.598387277814497, 18.766620769514805, 0.009660602550421227] | dparams [0.471061262609692, 0.8600583546412899, 0.0633250635963107]\n",
      "best err 0.04578399168856953 | params [8.560231315543113, 20.392131059786838, 0.06095390406343289] | dparams [0.4155184291353833, 0.7586488740455356, 0.045702331648093404]\n",
      "best err 0.045655254174354114 | params [8.896801243142779, 19.777625471809948, 0.01982180558014883] | dparams [0.29988380549129756, 0.5475244788874035, 0.03298382977374549]\n",
      "best err 0.04562857215368995 | params [8.678185948939625, 20.325149950697355, 0.046538707696882675] | dparams [0.21642914126112442, 0.3951538916578281, 0.023804759786009863]\n",
      "best err 0.04558818715130035 | params [8.853493553361133, 20.00507529845451, 0.025114423889473794] | dparams [0.1561990755395661, 0.28518651514837123, 0.017180133185161182]\n",
      "best err 0.04557231765100618 | params [8.75101133989963, 20.192186171043364, 0.037638740981456295] | dparams [0.11273043480766026, 0.20582195984773102, 0.012399073921062681]\n",
      "best err 0.045571424071279544 | params [8.751011339899636, 20.19218617104337, 0.029503708581847067] | dparams [0.06656619444957533, 0.12153580907048672, 0.008948535639570147]\n",
      "best err 0.045565404857902274 | params [8.758267055094638, 19.962361956091087, 0.029503708581847067] | dparams [0.05871737446202591, 0.10720552182298565, 0.005284020809809777]\n",
      "best err 0.045562877385993454 | params [8.705421418078814, 19.962361956091094, 0.03478772939165685] | dparams [0.04237691632298873, 0.06330378858125481, 0.003813530658647815]\n",
      "Final twiddle error = 0.04556219028823081\n"
     ]
    }
   ],
   "source": [
    "def make_robot():\n",
    "    \"\"\"\n",
    "    Resets the robot back to the initial position and drift.\n",
    "    You'll want to call this after you call `run`.\n",
    "    \"\"\"\n",
    "    robot = Robot()\n",
    "    robot.set(0.0, 1.0, 0.0)\n",
    "    robot.set_steering_drift(10.0 / 180.0 * np.pi)\n",
    "    return robot\n",
    "\n",
    "\n",
    "def run(robot, params, n=100, speed=1.0):\n",
    "    x_trajectory = []\n",
    "    y_trajectory = []\n",
    "    err = 0\n",
    "    prev_cte = robot.y\n",
    "    int_cte = 0\n",
    "    for i in range(2 * n):\n",
    "        cte = robot.y\n",
    "        diff_cte = cte - prev_cte\n",
    "        int_cte += cte\n",
    "        prev_cte = cte\n",
    "        steer = -params[0] * cte - params[1] * diff_cte - params[2] * int_cte\n",
    "        robot.move(steer, speed)\n",
    "        x_trajectory.append(robot.x)\n",
    "        y_trajectory.append(robot.y)\n",
    "        err += cte ** 2\n",
    "    return x_trajectory, y_trajectory, err / n\n",
    "\n",
    "\n",
    "# Make this tolerance bigger if you are timing out!\n",
    "def twiddle(tol=0.1): \n",
    "    n = 0\n",
    "    p = [0.0, 0.0, 0.0]\n",
    "    dp = [1.0, 1.0, 1.0]\n",
    "    \n",
    "    robot = make_robot()\n",
    "    x_trajectory, y_trajectory, best_err = run(robot, p)  # initial err\n",
    "    \n",
    "    while sum(dp) >= tol:\n",
    "        for i in range(len(p)):\n",
    "            robot = make_robot()\n",
    "            p[i] += dp[i]\n",
    "            _, _, err = run(robot, p)\n",
    "            if err < best_err:\n",
    "                best_err = err\n",
    "                dp[i] *= 1.1\n",
    "            else:\n",
    "                p[i] -= 2*dp[i]  # reverse the search direction\n",
    "                robot = make_robot()\n",
    "                _, _, err = run(robot, p)\n",
    "                if err < best_err:\n",
    "                    best_err = err\n",
    "                    dp[i] *= 1.1\n",
    "                else:\n",
    "                    p[i] += dp[i]\n",
    "                    dp[i] *= 0.9  # narrow the search range\n",
    "            n += 1\n",
    "        if n % 5 == 0:\n",
    "            print(\"best err {} | params {} | dparams {}\".format(best_err, p, dp))\n",
    "    \n",
    "    return p, best_err\n",
    "\n",
    "\n",
    "params, err = twiddle()\n",
    "print(\"Final twiddle error = {}\".format(err))"
   ]
  },
  {
   "cell_type": "code",
   "execution_count": 400,
   "metadata": {},
   "outputs": [
    {
     "name": "stdout",
     "output_type": "stream",
     "text": [
      "[8.705421418078812, 19.962361956091094, 0.03097419873300903]\n"
     ]
    },
    {
     "data": {
      "image/png": "[encoded data removed]",
      "text/plain": [
       "<Figure size 576x288 with 1 Axes>"
      ]
     },
     "metadata": {
      "needs_background": "light"
     },
     "output_type": "display_data"
    }
   ],
   "source": [
    "robot = make_robot()\n",
    "print (params)\n",
    "x_trajectory, y_trajectory, err = run(robot, params)\n",
    "n = len(x_trajectory)\n",
    "\n",
    "fig, ax1 = plt.subplots(1, 1, figsize=(8, 4))\n",
    "ax1.plot(x_trajectory, y_trajectory, 'g', label='Twiddle PID controller')\n",
    "ax1.plot(x_trajectory, np.zeros(n), 'r', label='reference')\n",
    "plt.legend()\n",
    "fig.savefig('Twidle_null')"
   ]
  },
  {
   "cell_type": "code",
   "execution_count": 392,
   "metadata": {},
   "outputs": [],
   "source": [
    "def func_to_minimize(parameters):\n",
    "    robot = make_robot()\n",
    "    return run(robot, parameters)[2]"
   ]
  },
  {
   "cell_type": "code",
   "execution_count": 393,
   "metadata": {},
   "outputs": [],
   "source": [
    "varbound=np.array([[5,7], [10,20], [0,1]])\n",
    "algorithm_param = [[-50, -50,-50], [50,50,50], 0.5, 0.6]"
   ]
  },
  {
   "cell_type": "code",
   "execution_count": 394,
   "metadata": {},
   "outputs": [],
   "source": [
    "class GA_by_hands(object):\n",
    "    def __init__(self):\n",
    "        self.v = list()\n",
    "        self.F = 0\n",
    "        self.p = 0\n",
    "        self.d = 1\n",
    "        \n",
    "    def start(self, dimensions, par):\n",
    "        Xn = np.random.uniform(par[0],par[1], (8*dimensions,dimensions))\n",
    "        for x in Xn: self.v.append(list(x))\n",
    "        self.F = par[2]\n",
    "        self.p = par[3]\n",
    "        self.d = dimensions\n",
    "    \n",
    "    def get_index(self, A):\n",
    "        return (self.v.index(A))\n",
    "    \n",
    "    def Potomki(self, func):\n",
    "        new_generation = list()\n",
    "        for x in self.v:\n",
    "            weights = np.ones(len(self.v))\n",
    "            weights[self.get_index(x)] = 0\n",
    "            C = random.choices(self.v, weights = weights, k = 1)\n",
    "            #print (self.v)\n",
    "            weights[self.get_index(C[0])] = 0\n",
    "            A = random.choices(self.v, weights = weights, k = 1)\n",
    "            weights[self.get_index(A[0])] = 0\n",
    "            B = random.choices(self.v, weights = weights, k = 1)\n",
    "            C_new = list(np.array(C) + self.F*(np.array(A) - np.array(B)))[0]\n",
    "            j = 0\n",
    "            T = list()\n",
    "            while j < len(x):\n",
    "                T.append(random.choices([x[j], C_new[j]], weights = [1-self.p, self.p], k = 1)[0])\n",
    "                j+= 1\n",
    "            if (func(T) < func(x)):\n",
    "                new_generation.append(T)\n",
    "            else:\n",
    "                new_generation.append(x)\n",
    "        self.v = new_generation\n",
    "        \n",
    "    def count_min(self, func, iterations):\n",
    "        i = 0\n",
    "        while i < iterations:\n",
    "            self.Potomki(func)\n",
    "            i+=1\n",
    "        idol = self.v[0]\n",
    "        for x in self.v:\n",
    "            if (func(x)< func(idol)):\n",
    "                idol = x\n",
    "        return idol\n",
    "    \n",
    "    \n",
    "        "
   ]
  },
  {
   "cell_type": "code",
   "execution_count": 395,
   "metadata": {},
   "outputs": [],
   "source": [
    "ga = GA_by_hands()"
   ]
  },
  {
   "cell_type": "code",
   "execution_count": 396,
   "metadata": {},
   "outputs": [],
   "source": [
    "ga.start(dimensions=3, par =algorithm_param)"
   ]
  },
  {
   "cell_type": "code",
   "execution_count": 397,
   "metadata": {},
   "outputs": [],
   "source": [
    "res_w = ga.count_min(func_to_minimize, 100)"
   ]
  },
  {
   "cell_type": "code",
   "execution_count": 398,
   "metadata": {},
   "outputs": [
    {
     "name": "stdout",
     "output_type": "stream",
     "text": [
      "[6.936298294649026, 16.22201774505716, 0.031064225769659736] 0.04554111981670368\n"
     ]
    }
   ],
   "source": [
    "print (res_w, func_to_minimize(res_w))"
   ]
  },
  {
   "cell_type": "code",
   "execution_count": 401,
   "metadata": {
    "scrolled": true
   },
   "outputs": [
    {
     "data": {
      "image/png": "[encoded data removed]",
      "text/plain": [
       "<Figure size 576x288 with 1 Axes>"
      ]
     },
     "metadata": {
      "needs_background": "light"
     },
     "output_type": "display_data"
    }
   ],
   "source": [
    "robot = make_robot()\n",
    "x_trajectory, y_trajectory, err = run(robot, res_w)\n",
    "n = len(x_trajectory)\n",
    "fig, ax1 = plt.subplots(1, 1, figsize=(8, 4))\n",
    "ax1.plot(x_trajectory, y_trajectory, 'g', label='GA PID controller')\n",
    "ax1.plot(x_trajectory, np.zeros(n), 'r', label='reference')\n",
    "plt.legend()\n",
    "fig.savefig('My_GA_null')"
   ]
  },
  {
   "cell_type": "code",
   "execution_count": null,
   "metadata": {},
   "outputs": [],
   "source": []
  },
  {
   "cell_type": "code",
   "execution_count": null,
   "metadata": {},
   "outputs": [],
   "source": []
  }
 ],
 "metadata": {
  "kernelspec": {
   "display_name": "Python 3",
   "language": "python",
   "name": "python3"
  },
  "language_info": {
   "codemirror_mode": {
    "name": "ipython",
    "version": 3
   },
   "file_extension": ".py",
   "mimetype": "text/x-python",
   "name": "python",
   "nbconvert_exporter": "python",
   "pygments_lexer": "ipython3",
   "version": "3.6.13"
  }
 },
 "nbformat": 4,
 "nbformat_minor": 2
}
